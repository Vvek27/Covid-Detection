{
 "cells": [
  {
   "cell_type": "code",
   "execution_count": 1,
   "id": "463c1c59",
   "metadata": {},
   "outputs": [],
   "source": [
    "import pandas as pd\n",
    "import numpy as np\n",
    "import os\n",
    "import shutil as sh\n",
    "import random"
   ]
  },
  {
   "cell_type": "markdown",
   "id": "ccd1cb9d",
   "metadata": {},
   "source": [
    "### Data collection "
   ]
  },
  {
   "cell_type": "markdown",
   "id": "86089f44",
   "metadata": {},
   "source": [
    "* Postive samples"
   ]
  },
  {
   "cell_type": "code",
   "execution_count": 2,
   "id": "53d26c36",
   "metadata": {},
   "outputs": [],
   "source": [
    "file_path=r\"C:\\Users\\Hp\\Desktop\\covid-chestxray-dataset\\metadata.csv\"\n",
    "image_path=r\"C:\\Users\\Hp\\Desktop\\covid-chestxray-dataset\\images\""
   ]
  },
  {
   "cell_type": "code",
   "execution_count": 3,
   "id": "dddef2c5",
   "metadata": {},
   "outputs": [
    {
     "data": {
      "text/html": [
       "<div>\n",
       "<style scoped>\n",
       "    .dataframe tbody tr th:only-of-type {\n",
       "        vertical-align: middle;\n",
       "    }\n",
       "\n",
       "    .dataframe tbody tr th {\n",
       "        vertical-align: top;\n",
       "    }\n",
       "\n",
       "    .dataframe thead th {\n",
       "        text-align: right;\n",
       "    }\n",
       "</style>\n",
       "<table border=\"1\" class=\"dataframe\">\n",
       "  <thead>\n",
       "    <tr style=\"text-align: right;\">\n",
       "      <th></th>\n",
       "      <th>patientid</th>\n",
       "      <th>offset</th>\n",
       "      <th>sex</th>\n",
       "      <th>age</th>\n",
       "      <th>finding</th>\n",
       "      <th>RT_PCR_positive</th>\n",
       "      <th>survival</th>\n",
       "      <th>intubated</th>\n",
       "      <th>intubation_present</th>\n",
       "      <th>went_icu</th>\n",
       "      <th>...</th>\n",
       "      <th>date</th>\n",
       "      <th>location</th>\n",
       "      <th>folder</th>\n",
       "      <th>filename</th>\n",
       "      <th>doi</th>\n",
       "      <th>url</th>\n",
       "      <th>license</th>\n",
       "      <th>clinical_notes</th>\n",
       "      <th>other_notes</th>\n",
       "      <th>Unnamed: 29</th>\n",
       "    </tr>\n",
       "  </thead>\n",
       "  <tbody>\n",
       "    <tr>\n",
       "      <th>0</th>\n",
       "      <td>2</td>\n",
       "      <td>0.0</td>\n",
       "      <td>M</td>\n",
       "      <td>65.0</td>\n",
       "      <td>Pneumonia/Viral/COVID-19</td>\n",
       "      <td>Y</td>\n",
       "      <td>Y</td>\n",
       "      <td>N</td>\n",
       "      <td>N</td>\n",
       "      <td>N</td>\n",
       "      <td>...</td>\n",
       "      <td>January 22, 2020</td>\n",
       "      <td>Cho Ray Hospital, Ho Chi Minh City, Vietnam</td>\n",
       "      <td>images</td>\n",
       "      <td>auntminnie-a-2020_01_28_23_51_6665_2020_01_28_...</td>\n",
       "      <td>10.1056/nejmc2001272</td>\n",
       "      <td>https://www.nejm.org/doi/full/10.1056/NEJMc200...</td>\n",
       "      <td>NaN</td>\n",
       "      <td>On January 22, 2020, a 65-year-old man with a ...</td>\n",
       "      <td>NaN</td>\n",
       "      <td>NaN</td>\n",
       "    </tr>\n",
       "    <tr>\n",
       "      <th>1</th>\n",
       "      <td>2</td>\n",
       "      <td>3.0</td>\n",
       "      <td>M</td>\n",
       "      <td>65.0</td>\n",
       "      <td>Pneumonia/Viral/COVID-19</td>\n",
       "      <td>Y</td>\n",
       "      <td>Y</td>\n",
       "      <td>N</td>\n",
       "      <td>N</td>\n",
       "      <td>N</td>\n",
       "      <td>...</td>\n",
       "      <td>January 25, 2020</td>\n",
       "      <td>Cho Ray Hospital, Ho Chi Minh City, Vietnam</td>\n",
       "      <td>images</td>\n",
       "      <td>auntminnie-b-2020_01_28_23_51_6665_2020_01_28_...</td>\n",
       "      <td>10.1056/nejmc2001272</td>\n",
       "      <td>https://www.nejm.org/doi/full/10.1056/NEJMc200...</td>\n",
       "      <td>NaN</td>\n",
       "      <td>On January 22, 2020, a 65-year-old man with a ...</td>\n",
       "      <td>NaN</td>\n",
       "      <td>NaN</td>\n",
       "    </tr>\n",
       "    <tr>\n",
       "      <th>2</th>\n",
       "      <td>2</td>\n",
       "      <td>5.0</td>\n",
       "      <td>M</td>\n",
       "      <td>65.0</td>\n",
       "      <td>Pneumonia/Viral/COVID-19</td>\n",
       "      <td>Y</td>\n",
       "      <td>Y</td>\n",
       "      <td>N</td>\n",
       "      <td>N</td>\n",
       "      <td>N</td>\n",
       "      <td>...</td>\n",
       "      <td>January 27, 2020</td>\n",
       "      <td>Cho Ray Hospital, Ho Chi Minh City, Vietnam</td>\n",
       "      <td>images</td>\n",
       "      <td>auntminnie-c-2020_01_28_23_51_6665_2020_01_28_...</td>\n",
       "      <td>10.1056/nejmc2001272</td>\n",
       "      <td>https://www.nejm.org/doi/full/10.1056/NEJMc200...</td>\n",
       "      <td>NaN</td>\n",
       "      <td>On January 22, 2020, a 65-year-old man with a ...</td>\n",
       "      <td>NaN</td>\n",
       "      <td>NaN</td>\n",
       "    </tr>\n",
       "    <tr>\n",
       "      <th>3</th>\n",
       "      <td>2</td>\n",
       "      <td>6.0</td>\n",
       "      <td>M</td>\n",
       "      <td>65.0</td>\n",
       "      <td>Pneumonia/Viral/COVID-19</td>\n",
       "      <td>Y</td>\n",
       "      <td>Y</td>\n",
       "      <td>N</td>\n",
       "      <td>N</td>\n",
       "      <td>N</td>\n",
       "      <td>...</td>\n",
       "      <td>January 28, 2020</td>\n",
       "      <td>Cho Ray Hospital, Ho Chi Minh City, Vietnam</td>\n",
       "      <td>images</td>\n",
       "      <td>auntminnie-d-2020_01_28_23_51_6665_2020_01_28_...</td>\n",
       "      <td>10.1056/nejmc2001272</td>\n",
       "      <td>https://www.nejm.org/doi/full/10.1056/NEJMc200...</td>\n",
       "      <td>NaN</td>\n",
       "      <td>On January 22, 2020, a 65-year-old man with a ...</td>\n",
       "      <td>NaN</td>\n",
       "      <td>NaN</td>\n",
       "    </tr>\n",
       "    <tr>\n",
       "      <th>4</th>\n",
       "      <td>4</td>\n",
       "      <td>0.0</td>\n",
       "      <td>F</td>\n",
       "      <td>52.0</td>\n",
       "      <td>Pneumonia/Viral/COVID-19</td>\n",
       "      <td>Y</td>\n",
       "      <td>NaN</td>\n",
       "      <td>N</td>\n",
       "      <td>N</td>\n",
       "      <td>N</td>\n",
       "      <td>...</td>\n",
       "      <td>January 25, 2020</td>\n",
       "      <td>Changhua Christian Hospital, Changhua City, Ta...</td>\n",
       "      <td>images</td>\n",
       "      <td>nejmc2001573_f1a.jpeg</td>\n",
       "      <td>10.1056/NEJMc2001573</td>\n",
       "      <td>https://www.nejm.org/doi/full/10.1056/NEJMc200...</td>\n",
       "      <td>NaN</td>\n",
       "      <td>diffuse infiltrates in the bilateral lower lungs</td>\n",
       "      <td>NaN</td>\n",
       "      <td>NaN</td>\n",
       "    </tr>\n",
       "  </tbody>\n",
       "</table>\n",
       "<p>5 rows × 30 columns</p>\n",
       "</div>"
      ],
      "text/plain": [
       "  patientid  offset sex   age                   finding RT_PCR_positive  \\\n",
       "0         2     0.0   M  65.0  Pneumonia/Viral/COVID-19               Y   \n",
       "1         2     3.0   M  65.0  Pneumonia/Viral/COVID-19               Y   \n",
       "2         2     5.0   M  65.0  Pneumonia/Viral/COVID-19               Y   \n",
       "3         2     6.0   M  65.0  Pneumonia/Viral/COVID-19               Y   \n",
       "4         4     0.0   F  52.0  Pneumonia/Viral/COVID-19               Y   \n",
       "\n",
       "  survival intubated intubation_present went_icu  ...              date  \\\n",
       "0        Y         N                  N        N  ...  January 22, 2020   \n",
       "1        Y         N                  N        N  ...  January 25, 2020   \n",
       "2        Y         N                  N        N  ...  January 27, 2020   \n",
       "3        Y         N                  N        N  ...  January 28, 2020   \n",
       "4      NaN         N                  N        N  ...  January 25, 2020   \n",
       "\n",
       "                                            location  folder  \\\n",
       "0        Cho Ray Hospital, Ho Chi Minh City, Vietnam  images   \n",
       "1        Cho Ray Hospital, Ho Chi Minh City, Vietnam  images   \n",
       "2        Cho Ray Hospital, Ho Chi Minh City, Vietnam  images   \n",
       "3        Cho Ray Hospital, Ho Chi Minh City, Vietnam  images   \n",
       "4  Changhua Christian Hospital, Changhua City, Ta...  images   \n",
       "\n",
       "                                            filename                   doi  \\\n",
       "0  auntminnie-a-2020_01_28_23_51_6665_2020_01_28_...  10.1056/nejmc2001272   \n",
       "1  auntminnie-b-2020_01_28_23_51_6665_2020_01_28_...  10.1056/nejmc2001272   \n",
       "2  auntminnie-c-2020_01_28_23_51_6665_2020_01_28_...  10.1056/nejmc2001272   \n",
       "3  auntminnie-d-2020_01_28_23_51_6665_2020_01_28_...  10.1056/nejmc2001272   \n",
       "4                              nejmc2001573_f1a.jpeg  10.1056/NEJMc2001573   \n",
       "\n",
       "                                                 url  license  \\\n",
       "0  https://www.nejm.org/doi/full/10.1056/NEJMc200...      NaN   \n",
       "1  https://www.nejm.org/doi/full/10.1056/NEJMc200...      NaN   \n",
       "2  https://www.nejm.org/doi/full/10.1056/NEJMc200...      NaN   \n",
       "3  https://www.nejm.org/doi/full/10.1056/NEJMc200...      NaN   \n",
       "4  https://www.nejm.org/doi/full/10.1056/NEJMc200...      NaN   \n",
       "\n",
       "                                      clinical_notes other_notes Unnamed: 29  \n",
       "0  On January 22, 2020, a 65-year-old man with a ...         NaN         NaN  \n",
       "1  On January 22, 2020, a 65-year-old man with a ...         NaN         NaN  \n",
       "2  On January 22, 2020, a 65-year-old man with a ...         NaN         NaN  \n",
       "3  On January 22, 2020, a 65-year-old man with a ...         NaN         NaN  \n",
       "4   diffuse infiltrates in the bilateral lower lungs         NaN         NaN  \n",
       "\n",
       "[5 rows x 30 columns]"
      ]
     },
     "execution_count": 3,
     "metadata": {},
     "output_type": "execute_result"
    }
   ],
   "source": [
    "df=pd.read_csv(file_path)\n",
    "df.head()"
   ]
  },
  {
   "cell_type": "code",
   "execution_count": 4,
   "id": "e95867f8",
   "metadata": {},
   "outputs": [
    {
     "data": {
      "text/plain": [
       "(950, 30)"
      ]
     },
     "execution_count": 4,
     "metadata": {},
     "output_type": "execute_result"
    }
   ],
   "source": [
    "df.shape"
   ]
  },
  {
   "cell_type": "code",
   "execution_count": 5,
   "id": "b6726c1e",
   "metadata": {},
   "outputs": [],
   "source": [
    "covid_dir=r\"C:\\Users\\Hp\\Documents\\dataset\\covid\""
   ]
  },
  {
   "cell_type": "code",
   "execution_count": 6,
   "id": "9d009223",
   "metadata": {},
   "outputs": [
    {
     "name": "stdout",
     "output_type": "stream",
     "text": [
      "covid folder has been created\n"
     ]
    }
   ],
   "source": [
    "if not os.path.exists(covid_dir):\n",
    "    !mkdir {covid_dir}\n",
    "print(\"covid folder has been created\")"
   ]
  },
  {
   "cell_type": "code",
   "execution_count": 7,
   "id": "846efc6a",
   "metadata": {},
   "outputs": [
    {
     "data": {
      "text/plain": [
       "Pneumonia/Viral/COVID-19                   584\n",
       "todo                                        83\n",
       "Pneumonia                                   81\n",
       "Pneumonia/Fungal/Pneumocystis               30\n",
       "Pneumonia/Bacterial/Streptococcus           22\n",
       "No Finding                                  22\n",
       "Tuberculosis                                18\n",
       "Pneumonia/Viral/SARS                        16\n",
       "Pneumonia/Lipoid                            13\n",
       "Pneumonia/Bacterial/Mycoplasma              11\n",
       "Pneumonia/Viral/MERS-CoV                    10\n",
       "Pneumonia/Bacterial/Klebsiella              10\n",
       "Pneumonia/Bacterial/Legionella              10\n",
       "Pneumonia/Bacterial/Nocardia                 8\n",
       "Pneumonia/Viral/Varicella                    6\n",
       "Pneumonia/Viral/Influenza                    5\n",
       "Pneumonia/Bacterial                          4\n",
       "Pneumonia/Bacterial/E.Coli                   4\n",
       "Pneumonia/Viral/Herpes                       3\n",
       "Pneumonia/Bacterial/Chlamydophila            3\n",
       "Pneumonia/Viral/Influenza/H1N1               2\n",
       "Pneumonia/Fungal/Aspergillosis               2\n",
       "Unknown                                      1\n",
       "Pneumonia/Aspiration                         1\n",
       "Pneumonia/Bacterial/Staphylococcus/MRSA      1\n",
       "Name: finding, dtype: int64"
      ]
     },
     "execution_count": 7,
     "metadata": {},
     "output_type": "execute_result"
    }
   ],
   "source": [
    "df[\"finding\"].value_counts()"
   ]
  },
  {
   "cell_type": "code",
   "execution_count": 8,
   "id": "812fdcc3",
   "metadata": {},
   "outputs": [
    {
     "data": {
      "text/plain": [
       "Index(['patientid', 'offset', 'sex', 'age', 'finding', 'RT_PCR_positive',\n",
       "       'survival', 'intubated', 'intubation_present', 'went_icu', 'in_icu',\n",
       "       'needed_supplemental_O2', 'extubated', 'temperature', 'pO2_saturation',\n",
       "       'leukocyte_count', 'neutrophil_count', 'lymphocyte_count', 'view',\n",
       "       'modality', 'date', 'location', 'folder', 'filename', 'doi', 'url',\n",
       "       'license', 'clinical_notes', 'other_notes', 'Unnamed: 29'],\n",
       "      dtype='object')"
      ]
     },
     "execution_count": 8,
     "metadata": {},
     "output_type": "execute_result"
    }
   ],
   "source": [
    "df.columns"
   ]
  },
  {
   "cell_type": "code",
   "execution_count": 9,
   "id": "c51b262f",
   "metadata": {},
   "outputs": [
    {
     "data": {
      "text/plain": [
       "dtype('O')"
      ]
     },
     "execution_count": 9,
     "metadata": {},
     "output_type": "execute_result"
    }
   ],
   "source": [
    "df[\"view\"].dtype"
   ]
  },
  {
   "cell_type": "code",
   "execution_count": 10,
   "id": "a4b4504d",
   "metadata": {},
   "outputs": [
    {
     "data": {
      "text/plain": [
       "0      auntminnie-a-2020_01_28_23_51_6665_2020_01_28_...\n",
       "1      auntminnie-b-2020_01_28_23_51_6665_2020_01_28_...\n",
       "2      auntminnie-c-2020_01_28_23_51_6665_2020_01_28_...\n",
       "3      auntminnie-d-2020_01_28_23_51_6665_2020_01_28_...\n",
       "4                                  nejmc2001573_f1a.jpeg\n",
       "                             ...                        \n",
       "945          072ecaf8c60a81980abb57150a8016_jumbo-9.jpeg\n",
       "946          ff33c406392b968d483174c97eb857_jumbo-9.jpeg\n",
       "947                                       000001-266.jpg\n",
       "948                                       000001-272.jpg\n",
       "949                                       000002-268.jpg\n",
       "Name: filename, Length: 950, dtype: object"
      ]
     },
     "execution_count": 10,
     "metadata": {},
     "output_type": "execute_result"
    }
   ],
   "source": [
    "df[\"filename\"]"
   ]
  },
  {
   "cell_type": "code",
   "execution_count": 11,
   "id": "e38e602c",
   "metadata": {},
   "outputs": [
    {
     "name": "stdout",
     "output_type": "stream",
     "text": [
      "196\n"
     ]
    }
   ],
   "source": [
    "count=0\n",
    "\n",
    "for (i,row) in df.iterrows():\n",
    "    if row[\"finding\"]==\"Pneumonia/Viral/COVID-19\" and row[\"view\"]==\"PA\":\n",
    "        filename=row[\"filename\"]\n",
    "        img_path=os.path.join(image_path,filename)\n",
    "        \n",
    "        img_copy_path=os.path.join(covid_dir,filename)\n",
    "        \n",
    "        sh.copy2(img_path,img_copy_path)\n",
    "        count=count + 1\n",
    "\n",
    "print(count)   "
   ]
  },
  {
   "cell_type": "code",
   "execution_count": 12,
   "id": "6fcedcbc",
   "metadata": {},
   "outputs": [],
   "source": [
    "kaggle_normal=r\"C:\\Users\\Hp\\Pictures\\NORMAL\"\n",
    "normal_dir=r\"C:\\Users\\Hp\\Documents\\dataset\\normal\""
   ]
  },
  {
   "cell_type": "code",
   "execution_count": 13,
   "id": "239df7cb",
   "metadata": {},
   "outputs": [],
   "source": [
    "if not os.path.exists(normal_dir):\n",
    "    !mkdir {normal_dir}"
   ]
  },
  {
   "cell_type": "code",
   "execution_count": 14,
   "id": "625c543f",
   "metadata": {},
   "outputs": [],
   "source": [
    "image_names=os.listdir(kaggle_normal)"
   ]
  },
  {
   "cell_type": "code",
   "execution_count": 15,
   "id": "a9f9ab3d",
   "metadata": {},
   "outputs": [
    {
     "data": {
      "text/plain": [
       "['IM-0115-0001.jpeg',\n",
       " 'IM-0117-0001.jpeg',\n",
       " 'IM-0119-0001.jpeg',\n",
       " 'IM-0122-0001.jpeg',\n",
       " 'IM-0125-0001.jpeg',\n",
       " 'IM-0127-0001.jpeg',\n",
       " 'IM-0128-0001.jpeg',\n",
       " 'IM-0129-0001.jpeg',\n",
       " 'IM-0131-0001.jpeg',\n",
       " 'IM-0133-0001.jpeg',\n",
       " 'IM-0135-0001.jpeg',\n",
       " 'IM-0137-0001.jpeg',\n",
       " 'IM-0140-0001.jpeg',\n",
       " 'IM-0141-0001.jpeg',\n",
       " 'IM-0143-0001.jpeg',\n",
       " 'IM-0145-0001.jpeg',\n",
       " 'IM-0147-0001.jpeg',\n",
       " 'IM-0149-0001.jpeg',\n",
       " 'IM-0151-0001.jpeg',\n",
       " 'IM-0152-0001.jpeg']"
      ]
     },
     "execution_count": 15,
     "metadata": {},
     "output_type": "execute_result"
    }
   ],
   "source": [
    "image_names[0:20]"
   ]
  },
  {
   "cell_type": "code",
   "execution_count": 16,
   "id": "29d1dd7a",
   "metadata": {},
   "outputs": [],
   "source": [
    "random.shuffle(image_names)"
   ]
  },
  {
   "cell_type": "code",
   "execution_count": 17,
   "id": "516d506b",
   "metadata": {},
   "outputs": [],
   "source": [
    "for i in range(196):\n",
    "    img_name= image_names[i]\n",
    "    \n",
    "    img1_path=os.path.join(kaggle_normal,img_name)\n",
    "    \n",
    "    img1_copy_path=os.path.join(normal_dir,img_name)\n",
    "    \n",
    "    sh.copy2(img1_path,img1_copy_path)\n",
    "    \n"
   ]
  },
  {
   "cell_type": "code",
   "execution_count": null,
   "id": "a69b2905",
   "metadata": {},
   "outputs": [],
   "source": []
  }
 ],
 "metadata": {
  "kernelspec": {
   "display_name": "Python 3",
   "language": "python",
   "name": "python3"
  },
  "language_info": {
   "codemirror_mode": {
    "name": "ipython",
    "version": 3
   },
   "file_extension": ".py",
   "mimetype": "text/x-python",
   "name": "python",
   "nbconvert_exporter": "python",
   "pygments_lexer": "ipython3",
   "version": "3.9.5"
  }
 },
 "nbformat": 4,
 "nbformat_minor": 5
}
